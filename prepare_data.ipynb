{
 "nbformat": 4,
 "nbformat_minor": 0,
 "metadata": {
  "colab": {
   "name": "PMLDL Project.ipynb",
   "provenance": [],
   "collapsed_sections": []
  },
  "kernelspec": {
   "name": "python3",
   "display_name": "Python 3"
  },
  "language_info": {
   "name": "python"
  },
  "accelerator": "GPU"
 },
 "cells": [
  {
   "cell_type": "code",
   "metadata": {
    "colab": {
     "base_uri": "https://localhost:8080/"
    },
    "id": "BsO-B1cdKVPG",
    "outputId": "6a0acab1-c673-4843-f076-959be2cad2a7"
   },
   "source": [
    "!git clone https://github.com/DmitryPodpryatov/PMLDL-project.git"
   ],
   "execution_count": 1,
   "outputs": [
    {
     "output_type": "stream",
     "name": "stdout",
     "text": [
      "Cloning into 'PMLDL-project'...\n",
      "remote: Enumerating objects: 2043, done.\u001B[K\n",
      "remote: Counting objects: 100% (30/30), done.\u001B[K\n",
      "remote: Compressing objects: 100% (23/23), done.\u001B[K\n",
      "remote: Total 2043 (delta 2), reused 28 (delta 2), pack-reused 2013\u001B[K\n",
      "Receiving objects: 100% (2043/2043), 1.19 GiB | 29.96 MiB/s, done.\n",
      "Resolving deltas: 100% (4/4), done.\n",
      "Checking out files: 100% (2014/2014), done.\n"
     ]
    }
   ]
  },
  {
   "cell_type": "code",
   "metadata": {
    "colab": {
     "base_uri": "https://localhost:8080/"
    },
    "id": "7vf-onlFNJ5p",
    "outputId": "4951b3b5-a618-4268-d8ab-55a378ab8b8b"
   },
   "source": [
    "%cd PMLDL-project/"
   ],
   "execution_count": 2,
   "outputs": [
    {
     "output_type": "stream",
     "name": "stdout",
     "text": [
      "/content/PMLDL-project\n"
     ]
    }
   ]
  },
  {
   "cell_type": "code",
   "metadata": {
    "colab": {
     "base_uri": "https://localhost:8080/",
     "height": 35
    },
    "id": "TurWcQf-Kmsc",
    "outputId": "989a0e5d-8a26-49f4-c64f-c03c4c8f4f84"
   },
   "source": [
    "from IPython.display import Audio\n",
    "\n",
    "from tensorflow.keras.preprocessing.sequence import pad_sequences\n",
    "\n",
    "from sklearn.model_selection import train_test_split\n",
    "\n",
    "import numpy as np\n",
    "import os\n",
    "from tqdm import tqdm\n",
    "\n",
    "from music.wav import read_wav, write_wav"
   ],
   "execution_count": 3,
   "outputs": [
    {
     "output_type": "execute_result",
     "data": {
      "application/vnd.google.colaboratory.intrinsic+json": {
       "type": "string"
      },
      "text/plain": [
       "'2.7.0'"
      ]
     },
     "metadata": {},
     "execution_count": 3
    }
   ]
  },
  {
   "cell_type": "code",
   "metadata": {
    "colab": {
     "base_uri": "https://localhost:8080/"
    },
    "id": "Cw8ogo44K7es",
    "outputId": "6cb98b96-cdf7-48ab-9d91-ff2fe0582495"
   },
   "source": [
    "dataset_path = 'dataset/genres_original/'\n",
    "\n",
    "genres = [folder for folder in os.listdir(dataset_path)]\n",
    "\n",
    "tracks = {\n",
    "    genre: list(map(\n",
    "        lambda filename: os.path.join(dataset_path, genre, filename),\n",
    "        os.listdir(os.path.join(dataset_path, genre))\n",
    "    ))\n",
    "    for genre in genres\n",
    "}\n",
    "\n",
    "genres"
   ],
   "execution_count": 4,
   "outputs": [
    {
     "output_type": "execute_result",
     "data": {
      "text/plain": [
       "['country',\n",
       " 'classical',\n",
       " 'reggae',\n",
       " 'disco',\n",
       " 'blues',\n",
       " 'pop',\n",
       " 'hiphop',\n",
       " 'jazz',\n",
       " 'rock',\n",
       " 'metal']"
      ]
     },
     "metadata": {},
     "execution_count": 4
    }
   ]
  },
  {
   "cell_type": "code",
   "metadata": {
    "colab": {
     "base_uri": "https://localhost:8080/",
     "height": 35
    },
    "id": "y4U278h8K--5",
    "outputId": "395f28c9-2ac5-4313-d650-1369df5a542e"
   },
   "source": [
    "music_file = tracks[genres[-1]][0]\n",
    "\n",
    "track = read_wav(music_file)\n",
    "\n",
    "Audio(music_file)\n",
    "music_file"
   ],
   "execution_count": 5,
   "outputs": [
    {
     "output_type": "execute_result",
     "data": {
      "application/vnd.google.colaboratory.intrinsic+json": {
       "type": "string"
      },
      "text/plain": [
       "'dataset/genres_original/metal/metal.00067.wav'"
      ]
     },
     "metadata": {},
     "execution_count": 5
    }
   ]
  },
  {
   "cell_type": "code",
   "metadata": {
    "colab": {
     "base_uri": "https://localhost:8080/"
    },
    "id": "412eOgUULCef",
    "outputId": "90c346ee-9487-4756-f48d-069f37668f8b"
   },
   "source": [
    "track"
   ],
   "execution_count": 6,
   "outputs": [
    {
     "output_type": "execute_result",
     "data": {
      "text/plain": [
       "{ filename=dataset/genres_original/metal/metal.00067.wav,\n",
       " sample_rate=22050,\n",
       " length=30.000s }"
      ]
     },
     "metadata": {},
     "execution_count": 6
    }
   ]
  },
  {
   "cell_type": "code",
   "metadata": {
    "colab": {
     "base_uri": "https://localhost:8080/"
    },
    "id": "3FdXM5OZLCw9",
    "outputId": "41e0e405-d7d3-46fc-b298-aedea88ba07f"
   },
   "source": [
    "dataset = dict()\n",
    "dataset['disco'] = tracks['disco']\n",
    "dataset['rock'] = tracks['rock']\n",
    "\n",
    "dataset = {\n",
    "    genre: [read_wav(filename) for filename in files]\n",
    "    for genre, files in dataset.items()\n",
    "}\n",
    "\n",
    "dataset['rock'][0]"
   ],
   "execution_count": 7,
   "outputs": [
    {
     "output_type": "execute_result",
     "data": {
      "text/plain": [
       "{ filename=dataset/genres_original/rock/rock.00058.wav,\n",
       " sample_rate=22050,\n",
       " length=30.013s }"
      ]
     },
     "metadata": {},
     "execution_count": 7
    }
   ]
  },
  {
   "cell_type": "code",
   "metadata": {
    "colab": {
     "base_uri": "https://localhost:8080/"
    },
    "id": "IAFH7l2ILFe6",
    "outputId": "341e007c-4208-494c-8b0c-d10515af7cce"
   },
   "source": [
    "# All tracks have same sample rate\n",
    "SAMPLE_RATE = track.sample_rate\n",
    "\n",
    "np.unique(\n",
    "    [t.sample_rate\n",
    "     for _, v in dataset.items()\n",
    "     for t in v]\n",
    ")"
   ],
   "execution_count": 8,
   "outputs": [
    {
     "output_type": "execute_result",
     "data": {
      "text/plain": [
       "array([22050])"
      ]
     },
     "metadata": {},
     "execution_count": 8
    }
   ]
  },
  {
   "cell_type": "code",
   "metadata": {
    "colab": {
     "base_uri": "https://localhost:8080/"
    },
    "id": "WhUUbp-4SHzg",
    "outputId": "6935223f-3082-4047-e042-04a1f5120b44"
   },
   "source": [
    "min([t.length for t in dataset['rock']])"
   ],
   "execution_count": 9,
   "outputs": [
    {
     "output_type": "execute_result",
     "data": {
      "text/plain": [
       "29.995827664399094"
      ]
     },
     "metadata": {},
     "execution_count": 9
    }
   ]
  },
  {
   "cell_type": "code",
   "metadata": {
    "id": "8V3FA-WALGbV"
   },
   "source": [
    "def flatten(list_of_lists):\n",
    "    return [elem for lst in tqdm(list_of_lists) for elem in lst]\n",
    "\n",
    "\n",
    "train_ratio = 0.8\n",
    "test_ratio = 1 - train_ratio\n",
    "\n",
    "track_length = SAMPLE_RATE * 30\n",
    "\n",
    "X_rock = [track.data for track in dataset['rock'][:10]]\n",
    "X_disco = [track.data for track in dataset['disco'][:10]]"
   ],
   "execution_count": 10,
   "outputs": []
  },
  {
   "cell_type": "code",
   "metadata": {
    "colab": {
     "base_uri": "https://localhost:8080/"
    },
    "id": "Yi8to8cpSniZ",
    "outputId": "fe462bf7-66b0-4427-f259-1372af2822f6"
   },
   "source": [
    "window = 1\n",
    "\n",
    "X_rock_flat = flatten(X_rock)\n",
    "X_disco_flat = flatten(X_disco)\n",
    "\n",
    "y_rock_flat, X_rock_flat = X_rock_flat[window:], X_rock_flat[:-window]\n",
    "y_disco_flat, X_disco_flat = X_disco_flat[window:], X_disco_flat[:-window]\n",
    "\n",
    "X = np.concatenate([X_rock_flat, X_disco_flat])\n",
    "y = np.concatenate([y_rock_flat, y_disco_flat])"
   ],
   "execution_count": 11,
   "outputs": [
    {
     "output_type": "stream",
     "name": "stderr",
     "text": [
      "100%|██████████| 10/10 [00:00<00:00, 16.36it/s]\n",
      "100%|██████████| 10/10 [00:00<00:00, 15.94it/s]\n"
     ]
    }
   ]
  },
  {
   "cell_type": "code",
   "metadata": {
    "id": "9BjnpxzlVmo5"
   },
   "source": [
    "def list2samples(iterable, window):\n",
    "    sampled_iterable = []\n",
    "\n",
    "    for i in range(0, len(iterable), window):\n",
    "        sampled_iterable.append(iterable[i: i + window])\n",
    "\n",
    "    return sampled_iterable\n",
    "\n",
    "\n",
    "X_sampled = list2samples(X, window)\n",
    "y_sampled = list2samples(y, window)"
   ],
   "execution_count": 12,
   "outputs": []
  },
  {
   "cell_type": "code",
   "metadata": {
    "id": "QAsx1swuDJ5L"
   },
   "source": [
    "X_rock = pad_sequences(X_sampled)\n",
    "X_disco = pad_sequences(y_sampled)"
   ],
   "execution_count": 13,
   "outputs": []
  },
  {
   "cell_type": "code",
   "metadata": {
    "colab": {
     "base_uri": "https://localhost:8080/"
    },
    "id": "aEfRa0ZpRbGP",
    "outputId": "386469f2-cc8a-4a70-f8bf-5900c55fc04f"
   },
   "source": [
    "X_train, X_test, y_train, y_test = train_test_split(X_sampled, y_sampled, train_size=0.9)\n",
    "\n",
    "X_train, X_test, y_train, y_test = np.asarray(X_train), np.asarray(X_test), np.asarray(y_train), np.asarray(y_test)\n",
    "X_train.shape, y_train.shape, X_test.shape, y_test.shape"
   ],
   "execution_count": 14,
   "outputs": [
    {
     "output_type": "execute_result",
     "data": {
      "text/plain": [
       "((11915663, 1), (11915663, 1), (1323963, 1), (1323963, 1))"
      ]
     },
     "metadata": {},
     "execution_count": 14
    }
   ]
  },
  {
   "cell_type": "code",
   "metadata": {
    "id": "KqcJrdG9JIs7"
   },
   "source": [
    "np.save('X_train.npy', X_train)\n",
    "np.save('X_test.npy', X_test)\n",
    "\n",
    "np.save('y_train.npy', y_train)\n",
    "np.save('y_test.npy', y_test)"
   ],
   "execution_count": 15,
   "outputs": []
  },
  {
   "cell_type": "code",
   "metadata": {
    "id": "lU8XHWy3LN-B"
   },
   "source": [],
   "execution_count": null,
   "outputs": []
  }
 ]
}